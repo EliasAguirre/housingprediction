{
  "nbformat": 4,
  "nbformat_minor": 0,
  "metadata": {
    "colab": {
      "name": "HousingMarketPrediction.ipynb",
      "version": "0.3.2",
      "provenance": [],
      "include_colab_link": true
    },
    "kernelspec": {
      "name": "python3",
      "display_name": "Python 3"
    }
  },
  "cells": [
    {
      "cell_type": "markdown",
      "metadata": {
        "id": "view-in-github",
        "colab_type": "text"
      },
      "source": [
        "<a href=\"https://colab.research.google.com/github/EliasAguirre/housingprediction/blob/master/HousingMarketPrediction.ipynb\" target=\"_parent\"><img src=\"https://colab.research.google.com/assets/colab-badge.svg\" alt=\"Open In Colab\"/></a>"
      ]
    },
    {
      "metadata": {
        "id": "lVbtQfrfx6Iy",
        "colab_type": "text"
      },
      "cell_type": "markdown",
      "source": [
        "# Import Tools"
      ]
    },
    {
      "metadata": {
        "id": "yNHI02lqmKxx",
        "colab_type": "code",
        "colab": {}
      },
      "cell_type": "code",
      "source": [
        "#tools to use\n",
        "import pandas as pd\n",
        "import numpy as np\n",
        "import tensorflow as tf"
      ],
      "execution_count": 0,
      "outputs": []
    },
    {
      "metadata": {
        "id": "VWG9VoZKyAK0",
        "colab_type": "text"
      },
      "cell_type": "markdown",
      "source": [
        "# Curate Data"
      ]
    },
    {
      "metadata": {
        "id": "janDSrGgoT5O",
        "colab_type": "code",
        "outputId": "7b675be4-f898-493a-ee54-d003037d3d7e",
        "colab": {
          "base_uri": "https://localhost:8080/",
          "height": 346
        }
      },
      "cell_type": "code",
      "source": [
        "# read data (uploaded to colab space) and create df (matrix or table)\n",
        "train_df = pd.read_csv('housing.csv')\n",
        "train_df.head()"
      ],
      "execution_count": 4,
      "outputs": [
        {
          "output_type": "execute_result",
          "data": {
            "text/html": [
              "<div>\n",
              "<style scoped>\n",
              "    .dataframe tbody tr th:only-of-type {\n",
              "        vertical-align: middle;\n",
              "    }\n",
              "\n",
              "    .dataframe tbody tr th {\n",
              "        vertical-align: top;\n",
              "    }\n",
              "\n",
              "    .dataframe thead th {\n",
              "        text-align: right;\n",
              "    }\n",
              "</style>\n",
              "<table border=\"1\" class=\"dataframe\">\n",
              "  <thead>\n",
              "    <tr style=\"text-align: right;\">\n",
              "      <th></th>\n",
              "      <th>Suburb</th>\n",
              "      <th>Address</th>\n",
              "      <th>Rooms</th>\n",
              "      <th>Type</th>\n",
              "      <th>Price</th>\n",
              "      <th>Method</th>\n",
              "      <th>SellerG</th>\n",
              "      <th>Date</th>\n",
              "      <th>Postcode</th>\n",
              "      <th>Regionname</th>\n",
              "      <th>Propertycount</th>\n",
              "      <th>Distance</th>\n",
              "      <th>CouncilArea</th>\n",
              "    </tr>\n",
              "  </thead>\n",
              "  <tbody>\n",
              "    <tr>\n",
              "      <th>0</th>\n",
              "      <td>Abbotsford</td>\n",
              "      <td>49 Lithgow St</td>\n",
              "      <td>3</td>\n",
              "      <td>h</td>\n",
              "      <td>1490000.0</td>\n",
              "      <td>S</td>\n",
              "      <td>Jellis</td>\n",
              "      <td>1/04/2017</td>\n",
              "      <td>3067</td>\n",
              "      <td>Northern Metropolitan</td>\n",
              "      <td>4019</td>\n",
              "      <td>3.0</td>\n",
              "      <td>Yarra City Council</td>\n",
              "    </tr>\n",
              "    <tr>\n",
              "      <th>1</th>\n",
              "      <td>Abbotsford</td>\n",
              "      <td>59A Turner St</td>\n",
              "      <td>3</td>\n",
              "      <td>h</td>\n",
              "      <td>1220000.0</td>\n",
              "      <td>S</td>\n",
              "      <td>Marshall</td>\n",
              "      <td>1/04/2017</td>\n",
              "      <td>3067</td>\n",
              "      <td>Northern Metropolitan</td>\n",
              "      <td>4019</td>\n",
              "      <td>3.0</td>\n",
              "      <td>Yarra City Council</td>\n",
              "    </tr>\n",
              "    <tr>\n",
              "      <th>2</th>\n",
              "      <td>Abbotsford</td>\n",
              "      <td>119B Yarra St</td>\n",
              "      <td>3</td>\n",
              "      <td>h</td>\n",
              "      <td>1420000.0</td>\n",
              "      <td>S</td>\n",
              "      <td>Nelson</td>\n",
              "      <td>1/04/2017</td>\n",
              "      <td>3067</td>\n",
              "      <td>Northern Metropolitan</td>\n",
              "      <td>4019</td>\n",
              "      <td>3.0</td>\n",
              "      <td>Yarra City Council</td>\n",
              "    </tr>\n",
              "    <tr>\n",
              "      <th>3</th>\n",
              "      <td>Aberfeldie</td>\n",
              "      <td>68 Vida St</td>\n",
              "      <td>3</td>\n",
              "      <td>h</td>\n",
              "      <td>1515000.0</td>\n",
              "      <td>S</td>\n",
              "      <td>Barry</td>\n",
              "      <td>1/04/2017</td>\n",
              "      <td>3040</td>\n",
              "      <td>Western Metropolitan</td>\n",
              "      <td>1543</td>\n",
              "      <td>7.5</td>\n",
              "      <td>Moonee Valley City Council</td>\n",
              "    </tr>\n",
              "    <tr>\n",
              "      <th>4</th>\n",
              "      <td>Airport West</td>\n",
              "      <td>92 Clydesdale Rd</td>\n",
              "      <td>2</td>\n",
              "      <td>h</td>\n",
              "      <td>670000.0</td>\n",
              "      <td>S</td>\n",
              "      <td>Nelson</td>\n",
              "      <td>1/04/2017</td>\n",
              "      <td>3042</td>\n",
              "      <td>Western Metropolitan</td>\n",
              "      <td>3464</td>\n",
              "      <td>10.4</td>\n",
              "      <td>Moonee Valley City Council</td>\n",
              "    </tr>\n",
              "  </tbody>\n",
              "</table>\n",
              "</div>"
            ],
            "text/plain": [
              "         Suburb           Address  Rooms Type      Price Method   SellerG  \\\n",
              "0    Abbotsford     49 Lithgow St      3    h  1490000.0      S    Jellis   \n",
              "1    Abbotsford     59A Turner St      3    h  1220000.0      S  Marshall   \n",
              "2    Abbotsford     119B Yarra St      3    h  1420000.0      S    Nelson   \n",
              "3    Aberfeldie        68 Vida St      3    h  1515000.0      S     Barry   \n",
              "4  Airport West  92 Clydesdale Rd      2    h   670000.0      S    Nelson   \n",
              "\n",
              "        Date  Postcode             Regionname  Propertycount  Distance  \\\n",
              "0  1/04/2017      3067  Northern Metropolitan           4019       3.0   \n",
              "1  1/04/2017      3067  Northern Metropolitan           4019       3.0   \n",
              "2  1/04/2017      3067  Northern Metropolitan           4019       3.0   \n",
              "3  1/04/2017      3040   Western Metropolitan           1543       7.5   \n",
              "4  1/04/2017      3042   Western Metropolitan           3464      10.4   \n",
              "\n",
              "                  CouncilArea  \n",
              "0          Yarra City Council  \n",
              "1          Yarra City Council  \n",
              "2          Yarra City Council  \n",
              "3  Moonee Valley City Council  \n",
              "4  Moonee Valley City Council  "
            ]
          },
          "metadata": {
            "tags": []
          },
          "execution_count": 4
        }
      ]
    },
    {
      "metadata": {
        "id": "0NSwSN4dpEHX",
        "colab_type": "code",
        "colab": {}
      },
      "cell_type": "code",
      "source": [
        "# remove unecessary variables (i.e not influence price like address), axis 1 = column, axis 0 = row\n",
        "new_train = train_df.drop([\"Address\", \"SellerG\", \"Date\", \"CouncilArea\", \"Regionname\", \"Suburb\", \"Method\"], axis=1)"
      ],
      "execution_count": 0,
      "outputs": []
    },
    {
      "metadata": {
        "id": "erA9IhfOqdVl",
        "colab_type": "code",
        "outputId": "fbe8bb33-3de8-4f87-c3ae-d07c60908e13",
        "colab": {
          "base_uri": "https://localhost:8080/",
          "height": 204
        }
      },
      "cell_type": "code",
      "source": [
        "new_train.head()"
      ],
      "execution_count": 6,
      "outputs": [
        {
          "output_type": "execute_result",
          "data": {
            "text/html": [
              "<div>\n",
              "<style scoped>\n",
              "    .dataframe tbody tr th:only-of-type {\n",
              "        vertical-align: middle;\n",
              "    }\n",
              "\n",
              "    .dataframe tbody tr th {\n",
              "        vertical-align: top;\n",
              "    }\n",
              "\n",
              "    .dataframe thead th {\n",
              "        text-align: right;\n",
              "    }\n",
              "</style>\n",
              "<table border=\"1\" class=\"dataframe\">\n",
              "  <thead>\n",
              "    <tr style=\"text-align: right;\">\n",
              "      <th></th>\n",
              "      <th>Rooms</th>\n",
              "      <th>Type</th>\n",
              "      <th>Price</th>\n",
              "      <th>Postcode</th>\n",
              "      <th>Propertycount</th>\n",
              "      <th>Distance</th>\n",
              "    </tr>\n",
              "  </thead>\n",
              "  <tbody>\n",
              "    <tr>\n",
              "      <th>0</th>\n",
              "      <td>3</td>\n",
              "      <td>h</td>\n",
              "      <td>1490000.0</td>\n",
              "      <td>3067</td>\n",
              "      <td>4019</td>\n",
              "      <td>3.0</td>\n",
              "    </tr>\n",
              "    <tr>\n",
              "      <th>1</th>\n",
              "      <td>3</td>\n",
              "      <td>h</td>\n",
              "      <td>1220000.0</td>\n",
              "      <td>3067</td>\n",
              "      <td>4019</td>\n",
              "      <td>3.0</td>\n",
              "    </tr>\n",
              "    <tr>\n",
              "      <th>2</th>\n",
              "      <td>3</td>\n",
              "      <td>h</td>\n",
              "      <td>1420000.0</td>\n",
              "      <td>3067</td>\n",
              "      <td>4019</td>\n",
              "      <td>3.0</td>\n",
              "    </tr>\n",
              "    <tr>\n",
              "      <th>3</th>\n",
              "      <td>3</td>\n",
              "      <td>h</td>\n",
              "      <td>1515000.0</td>\n",
              "      <td>3040</td>\n",
              "      <td>1543</td>\n",
              "      <td>7.5</td>\n",
              "    </tr>\n",
              "    <tr>\n",
              "      <th>4</th>\n",
              "      <td>2</td>\n",
              "      <td>h</td>\n",
              "      <td>670000.0</td>\n",
              "      <td>3042</td>\n",
              "      <td>3464</td>\n",
              "      <td>10.4</td>\n",
              "    </tr>\n",
              "  </tbody>\n",
              "</table>\n",
              "</div>"
            ],
            "text/plain": [
              "   Rooms Type      Price  Postcode  Propertycount  Distance\n",
              "0      3    h  1490000.0      3067           4019       3.0\n",
              "1      3    h  1220000.0      3067           4019       3.0\n",
              "2      3    h  1420000.0      3067           4019       3.0\n",
              "3      3    h  1515000.0      3040           1543       7.5\n",
              "4      2    h   670000.0      3042           3464      10.4"
            ]
          },
          "metadata": {
            "tags": []
          },
          "execution_count": 6
        }
      ]
    },
    {
      "metadata": {
        "id": "I-OYkcAFqfWn",
        "colab_type": "code",
        "colab": {}
      },
      "cell_type": "code",
      "source": [
        "# make 'type' be a number, again computers only work with numbers not letters!\n",
        "# get values to encode values of 'type'\n",
        "features_to_encode = new_train['Type'].values"
      ],
      "execution_count": 0,
      "outputs": []
    },
    {
      "metadata": {
        "id": "ZwEap4okqgYm",
        "colab_type": "code",
        "colab": {}
      },
      "cell_type": "code",
      "source": [
        "# can now drop from df because we dont need those letters\n",
        "new_train = new_train.drop('Type', axis=1)"
      ],
      "execution_count": 0,
      "outputs": []
    },
    {
      "metadata": {
        "id": "oq2C8vM-qj1E",
        "colab_type": "code",
        "colab": {}
      },
      "cell_type": "code",
      "source": [
        "from sklearn.preprocessing import OneHotEncoder"
      ],
      "execution_count": 0,
      "outputs": []
    },
    {
      "metadata": {
        "id": "ek774AZSqlsf",
        "colab_type": "code",
        "colab": {}
      },
      "cell_type": "code",
      "source": [
        "# sklearns OneHotEncoder can do this since its a way of converting categorical variables into binary arrays\n",
        "# oncehotencoder instead of levelbinarizer (values are numbers vs letters)\n",
        "oh = OneHotEncoder()"
      ],
      "execution_count": 0,
      "outputs": []
    },
    {
      "metadata": {
        "id": "7eLV_xNYqnXu",
        "colab_type": "code",
        "colab": {}
      },
      "cell_type": "code",
      "source": [
        "# \"This creates a binary column for each category and returns a sparse matrix or dense array.\"\n",
        "# input is an array of the categorical values\n",
        "# numpy reshape unknown row but colums as 1 \n",
        "encoded_type_features = oh.fit_transform(features_to_encode.reshape(-1, 1))"
      ],
      "execution_count": 0,
      "outputs": []
    },
    {
      "metadata": {
        "id": "8wd73vPfqpCq",
        "colab_type": "code",
        "outputId": "efcb8014-f046-44e0-f9f6-96d462a76c78",
        "colab": {
          "base_uri": "https://localhost:8080/",
          "height": 136
        }
      },
      "cell_type": "code",
      "source": [
        "# Check out the array and how it looks\n",
        "encoded_type_features.toarray()"
      ],
      "execution_count": 12,
      "outputs": [
        {
          "output_type": "execute_result",
          "data": {
            "text/plain": [
              "array([[1., 0., 0.],\n",
              "       [1., 0., 0.],\n",
              "       [1., 0., 0.],\n",
              "       ...,\n",
              "       [1., 0., 0.],\n",
              "       [0., 0., 1.],\n",
              "       [1., 0., 0.]])"
            ]
          },
          "metadata": {
            "tags": []
          },
          "execution_count": 12
        }
      ]
    },
    {
      "metadata": {
        "id": "epCzpznfq0YS",
        "colab_type": "code",
        "outputId": "9add85cc-d185-477f-b8df-bcdc46b74a2b",
        "colab": {
          "base_uri": "https://localhost:8080/",
          "height": 34
        }
      },
      "cell_type": "code",
      "source": [
        "# See categories that were in our \"Type\" column\n",
        "oh.categories_"
      ],
      "execution_count": 13,
      "outputs": [
        {
          "output_type": "execute_result",
          "data": {
            "text/plain": [
              "[array(['h', 't', 'u'], dtype=object)]"
            ]
          },
          "metadata": {
            "tags": []
          },
          "execution_count": 13
        }
      ]
    },
    {
      "metadata": {
        "id": "tXZ2IRTLq_0e",
        "colab_type": "code",
        "colab": {}
      },
      "cell_type": "code",
      "source": [
        "# Create a new type of dataframe which will support this new datatype (3 types of rooms)\n",
        "columns = [\"Rooms\", \"Price\", \"Postcode\", \"Propertycount\", \"Distance\", \"Type1\", \"Type2\", \"Type3\"]"
      ],
      "execution_count": 0,
      "outputs": []
    },
    {
      "metadata": {
        "id": "Jos-04qtrQJ8",
        "colab_type": "code",
        "colab": {
          "base_uri": "https://localhost:8080/",
          "height": 91
        },
        "outputId": "3b0f3971-ddee-4d11-9665-20801bb43f09"
      },
      "cell_type": "code",
      "source": [
        "# Now we transform into a matrix so we can add columns\n",
        "# use .values because .as_matrix will be removed in future version\n",
        "new_matrix = new_train.as_matrix()"
      ],
      "execution_count": 15,
      "outputs": [
        {
          "output_type": "stream",
          "text": [
            "/usr/local/lib/python3.6/dist-packages/ipykernel_launcher.py:1: FutureWarning: Method .as_matrix will be removed in a future version. Use .values instead.\n",
            "  \"\"\"Entry point for launching an IPython kernel.\n"
          ],
          "name": "stderr"
        }
      ]
    },
    {
      "metadata": {
        "id": "xeOnzdYCrePZ",
        "colab_type": "code",
        "outputId": "f3152aa0-91e0-426b-f37d-a18332984907",
        "colab": {
          "base_uri": "https://localhost:8080/",
          "height": 34
        }
      },
      "cell_type": "code",
      "source": [
        "# Notice we do not have the \"Type\" column, rather only the first 5 variables. \n",
        "# So we want to add it\n",
        "new_matrix[0]"
      ],
      "execution_count": 16,
      "outputs": [
        {
          "output_type": "execute_result",
          "data": {
            "text/plain": [
              "array([3.000e+00, 1.490e+06, 3.067e+03, 4.019e+03, 3.000e+00])"
            ]
          },
          "metadata": {
            "tags": []
          },
          "execution_count": 16
        }
      ]
    },
    {
      "metadata": {
        "id": "EYc4xYmwriQq",
        "colab_type": "code",
        "outputId": "9d1ae20c-78c4-4343-97be-dfc06eb01d89",
        "colab": {
          "base_uri": "https://localhost:8080/",
          "height": 34
        }
      },
      "cell_type": "code",
      "source": [
        "new_matrix.shape"
      ],
      "execution_count": 17,
      "outputs": [
        {
          "output_type": "execute_result",
          "data": {
            "text/plain": [
              "(63023, 5)"
            ]
          },
          "metadata": {
            "tags": []
          },
          "execution_count": 17
        }
      ]
    },
    {
      "metadata": {
        "id": "jNZVNC7ark-2",
        "colab_type": "code",
        "colab": {}
      },
      "cell_type": "code",
      "source": [
        "# np.c_ is a function which adds columns to a matrix. We use it so we can add columns to our new_matrix\n",
        "matrix_with_columns = np.c_[new_matrix, encoded_type_features.toarray()]"
      ],
      "execution_count": 0,
      "outputs": []
    },
    {
      "metadata": {
        "id": "qTWUJg1BpmNz",
        "colab_type": "code",
        "colab": {
          "base_uri": "https://localhost:8080/",
          "height": 34
        },
        "outputId": "b9fa1b33-afe4-4bef-bc90-9b977c452e48"
      },
      "cell_type": "code",
      "source": [
        "# check shape to make sure we have 3 more columns (i.e (x,8) )  \n",
        "matrix_with_columns.shape"
      ],
      "execution_count": 19,
      "outputs": [
        {
          "output_type": "execute_result",
          "data": {
            "text/plain": [
              "(63023, 8)"
            ]
          },
          "metadata": {
            "tags": []
          },
          "execution_count": 19
        }
      ]
    },
    {
      "metadata": {
        "id": "7L_z1L6NqH1m",
        "colab_type": "code",
        "colab": {
          "base_uri": "https://localhost:8080/",
          "height": 91
        },
        "outputId": "c4f6f41d-3622-4514-9f79-d81b39a81503"
      },
      "cell_type": "code",
      "source": [
        "# variables for each house\n",
        "matrix_with_columns[0]"
      ],
      "execution_count": 20,
      "outputs": [
        {
          "output_type": "execute_result",
          "data": {
            "text/plain": [
              "array([3.000e+00, 1.490e+06, 3.067e+03, 4.019e+03, 3.000e+00, 1.000e+00,\n",
              "       0.000e+00, 0.000e+00])"
            ]
          },
          "metadata": {
            "tags": []
          },
          "execution_count": 20
        }
      ]
    },
    {
      "metadata": {
        "id": "vy6rEAyBscMk",
        "colab_type": "code",
        "colab": {}
      },
      "cell_type": "code",
      "source": [
        "# scale - avoid algorithm from thinking that certain things ar emore important than others \n",
        "# because they have higher values (postal code more important than rooms because \n",
        "# 66167>4).\n",
        "# lets scale accordingly and have them all on values between [0,1]\n",
        "\n",
        "# another tool from sklearn\n",
        "from sklearn.preprocessing import MinMaxScaler"
      ],
      "execution_count": 0,
      "outputs": []
    },
    {
      "metadata": {
        "id": "wI-4X7kytLQE",
        "colab_type": "code",
        "colab": {}
      },
      "cell_type": "code",
      "source": [
        "# MinMaxScaler does this range and the parameter is what we set\n",
        "scaler = MinMaxScaler(feature_range=(0,1))"
      ],
      "execution_count": 0,
      "outputs": []
    },
    {
      "metadata": {
        "id": "fgwcU4XLuZ29",
        "colab_type": "code",
        "colab": {}
      },
      "cell_type": "code",
      "source": [
        "# Turn our matrix into a dataframe again so we can use scaler\n",
        "df = pd.DataFrame(matrix_with_columns)"
      ],
      "execution_count": 0,
      "outputs": []
    },
    {
      "metadata": {
        "id": "CTtuSxBPulcp",
        "colab_type": "code",
        "colab": {
          "base_uri": "https://localhost:8080/",
          "height": 204
        },
        "outputId": "088e3698-2ff6-4cab-e868-1c82bb9b330a"
      },
      "cell_type": "code",
      "source": [
        "df.head()"
      ],
      "execution_count": 24,
      "outputs": [
        {
          "output_type": "execute_result",
          "data": {
            "text/html": [
              "<div>\n",
              "<style scoped>\n",
              "    .dataframe tbody tr th:only-of-type {\n",
              "        vertical-align: middle;\n",
              "    }\n",
              "\n",
              "    .dataframe tbody tr th {\n",
              "        vertical-align: top;\n",
              "    }\n",
              "\n",
              "    .dataframe thead th {\n",
              "        text-align: right;\n",
              "    }\n",
              "</style>\n",
              "<table border=\"1\" class=\"dataframe\">\n",
              "  <thead>\n",
              "    <tr style=\"text-align: right;\">\n",
              "      <th></th>\n",
              "      <th>0</th>\n",
              "      <th>1</th>\n",
              "      <th>2</th>\n",
              "      <th>3</th>\n",
              "      <th>4</th>\n",
              "      <th>5</th>\n",
              "      <th>6</th>\n",
              "      <th>7</th>\n",
              "    </tr>\n",
              "  </thead>\n",
              "  <tbody>\n",
              "    <tr>\n",
              "      <th>0</th>\n",
              "      <td>3.0</td>\n",
              "      <td>1490000.0</td>\n",
              "      <td>3067.0</td>\n",
              "      <td>4019.0</td>\n",
              "      <td>3.0</td>\n",
              "      <td>1.0</td>\n",
              "      <td>0.0</td>\n",
              "      <td>0.0</td>\n",
              "    </tr>\n",
              "    <tr>\n",
              "      <th>1</th>\n",
              "      <td>3.0</td>\n",
              "      <td>1220000.0</td>\n",
              "      <td>3067.0</td>\n",
              "      <td>4019.0</td>\n",
              "      <td>3.0</td>\n",
              "      <td>1.0</td>\n",
              "      <td>0.0</td>\n",
              "      <td>0.0</td>\n",
              "    </tr>\n",
              "    <tr>\n",
              "      <th>2</th>\n",
              "      <td>3.0</td>\n",
              "      <td>1420000.0</td>\n",
              "      <td>3067.0</td>\n",
              "      <td>4019.0</td>\n",
              "      <td>3.0</td>\n",
              "      <td>1.0</td>\n",
              "      <td>0.0</td>\n",
              "      <td>0.0</td>\n",
              "    </tr>\n",
              "    <tr>\n",
              "      <th>3</th>\n",
              "      <td>3.0</td>\n",
              "      <td>1515000.0</td>\n",
              "      <td>3040.0</td>\n",
              "      <td>1543.0</td>\n",
              "      <td>7.5</td>\n",
              "      <td>1.0</td>\n",
              "      <td>0.0</td>\n",
              "      <td>0.0</td>\n",
              "    </tr>\n",
              "    <tr>\n",
              "      <th>4</th>\n",
              "      <td>2.0</td>\n",
              "      <td>670000.0</td>\n",
              "      <td>3042.0</td>\n",
              "      <td>3464.0</td>\n",
              "      <td>10.4</td>\n",
              "      <td>1.0</td>\n",
              "      <td>0.0</td>\n",
              "      <td>0.0</td>\n",
              "    </tr>\n",
              "  </tbody>\n",
              "</table>\n",
              "</div>"
            ],
            "text/plain": [
              "     0          1       2       3     4    5    6    7\n",
              "0  3.0  1490000.0  3067.0  4019.0   3.0  1.0  0.0  0.0\n",
              "1  3.0  1220000.0  3067.0  4019.0   3.0  1.0  0.0  0.0\n",
              "2  3.0  1420000.0  3067.0  4019.0   3.0  1.0  0.0  0.0\n",
              "3  3.0  1515000.0  3040.0  1543.0   7.5  1.0  0.0  0.0\n",
              "4  2.0   670000.0  3042.0  3464.0  10.4  1.0  0.0  0.0"
            ]
          },
          "metadata": {
            "tags": []
          },
          "execution_count": 24
        }
      ]
    },
    {
      "metadata": {
        "id": "KLI9FGhcuoWd",
        "colab_type": "code",
        "colab": {}
      },
      "cell_type": "code",
      "source": [
        "# one of the methods for the scaler\n",
        "# fit to data then transform it \n",
        "scaled_train = scaler.fit_transform(df)"
      ],
      "execution_count": 0,
      "outputs": []
    },
    {
      "metadata": {
        "id": "okrQpo0DvX0i",
        "colab_type": "code",
        "colab": {
          "base_uri": "https://localhost:8080/",
          "height": 51
        },
        "outputId": "2ffc68c2-713a-46a5-b548-766423efb0c1"
      },
      "cell_type": "code",
      "source": [
        "# to help visualize, one for each column\n",
        "scaled_train[0]"
      ],
      "execution_count": 26,
      "outputs": [
        {
          "output_type": "execute_result",
          "data": {
            "text/plain": [
              "array([0.06666667, 0.12640576, 0.06836735, 0.18416547, 0.04680187,\n",
              "       1.        , 0.        , 0.        ])"
            ]
          },
          "metadata": {
            "tags": []
          },
          "execution_count": 26
        }
      ]
    },
    {
      "metadata": {
        "id": "1bxfuIudvlH2",
        "colab_type": "code",
        "colab": {}
      },
      "cell_type": "code",
      "source": [
        "# we have values in dataframe but want to label the columns to see what we're doing\n",
        "# we created variable columns in cell 12\n",
        "scaled_train_df = pd.DataFrame(scaled_train, columns=columns)"
      ],
      "execution_count": 0,
      "outputs": []
    },
    {
      "metadata": {
        "id": "36QL6WSPwcPH",
        "colab_type": "code",
        "colab": {
          "base_uri": "https://localhost:8080/",
          "height": 244
        },
        "outputId": "094eb57a-4d8f-4d05-87c5-c665f8ab7119"
      },
      "cell_type": "code",
      "source": [
        "# visualize\n",
        "# values have been scaled\n",
        "scaled_train_df.head()"
      ],
      "execution_count": 28,
      "outputs": [
        {
          "output_type": "execute_result",
          "data": {
            "text/html": [
              "<div>\n",
              "<style scoped>\n",
              "    .dataframe tbody tr th:only-of-type {\n",
              "        vertical-align: middle;\n",
              "    }\n",
              "\n",
              "    .dataframe tbody tr th {\n",
              "        vertical-align: top;\n",
              "    }\n",
              "\n",
              "    .dataframe thead th {\n",
              "        text-align: right;\n",
              "    }\n",
              "</style>\n",
              "<table border=\"1\" class=\"dataframe\">\n",
              "  <thead>\n",
              "    <tr style=\"text-align: right;\">\n",
              "      <th></th>\n",
              "      <th>Rooms</th>\n",
              "      <th>Price</th>\n",
              "      <th>Postcode</th>\n",
              "      <th>Propertycount</th>\n",
              "      <th>Distance</th>\n",
              "      <th>Type1</th>\n",
              "      <th>Type2</th>\n",
              "      <th>Type3</th>\n",
              "    </tr>\n",
              "  </thead>\n",
              "  <tbody>\n",
              "    <tr>\n",
              "      <th>0</th>\n",
              "      <td>0.066667</td>\n",
              "      <td>0.126406</td>\n",
              "      <td>0.068367</td>\n",
              "      <td>0.184165</td>\n",
              "      <td>0.046802</td>\n",
              "      <td>1.0</td>\n",
              "      <td>0.0</td>\n",
              "      <td>0.0</td>\n",
              "    </tr>\n",
              "    <tr>\n",
              "      <th>1</th>\n",
              "      <td>0.066667</td>\n",
              "      <td>0.102114</td>\n",
              "      <td>0.068367</td>\n",
              "      <td>0.184165</td>\n",
              "      <td>0.046802</td>\n",
              "      <td>1.0</td>\n",
              "      <td>0.0</td>\n",
              "      <td>0.0</td>\n",
              "    </tr>\n",
              "    <tr>\n",
              "      <th>2</th>\n",
              "      <td>0.066667</td>\n",
              "      <td>0.120108</td>\n",
              "      <td>0.068367</td>\n",
              "      <td>0.184165</td>\n",
              "      <td>0.046802</td>\n",
              "      <td>1.0</td>\n",
              "      <td>0.0</td>\n",
              "      <td>0.0</td>\n",
              "    </tr>\n",
              "    <tr>\n",
              "      <th>3</th>\n",
              "      <td>0.066667</td>\n",
              "      <td>0.128655</td>\n",
              "      <td>0.040816</td>\n",
              "      <td>0.069594</td>\n",
              "      <td>0.117005</td>\n",
              "      <td>1.0</td>\n",
              "      <td>0.0</td>\n",
              "      <td>0.0</td>\n",
              "    </tr>\n",
              "    <tr>\n",
              "      <th>4</th>\n",
              "      <td>0.033333</td>\n",
              "      <td>0.052632</td>\n",
              "      <td>0.042857</td>\n",
              "      <td>0.158484</td>\n",
              "      <td>0.162246</td>\n",
              "      <td>1.0</td>\n",
              "      <td>0.0</td>\n",
              "      <td>0.0</td>\n",
              "    </tr>\n",
              "  </tbody>\n",
              "</table>\n",
              "</div>"
            ],
            "text/plain": [
              "      Rooms     Price  Postcode  Propertycount  Distance  Type1  Type2  Type3\n",
              "0  0.066667  0.126406  0.068367       0.184165  0.046802    1.0    0.0    0.0\n",
              "1  0.066667  0.102114  0.068367       0.184165  0.046802    1.0    0.0    0.0\n",
              "2  0.066667  0.120108  0.068367       0.184165  0.046802    1.0    0.0    0.0\n",
              "3  0.066667  0.128655  0.040816       0.069594  0.117005    1.0    0.0    0.0\n",
              "4  0.033333  0.052632  0.042857       0.158484  0.162246    1.0    0.0    0.0"
            ]
          },
          "metadata": {
            "tags": []
          },
          "execution_count": 28
        }
      ]
    },
    {
      "metadata": {
        "id": "OAneK_zWwkGA",
        "colab_type": "code",
        "colab": {}
      },
      "cell_type": "code",
      "source": [
        "# we have NaN values in our data which cant be seen using just the head function\n",
        "# this will affect the learning of the algorithm if we dont do anything\n",
        "# lets use a function that fills all the NaN values with the mean value of that column\n",
        "# better but NOT optimal\n",
        "\n",
        "scaled_train_df = scaled_train_df.fillna(scaled_train_df.mean())"
      ],
      "execution_count": 0,
      "outputs": []
    },
    {
      "metadata": {
        "id": "-6Gi9OxmxGqB",
        "colab_type": "code",
        "colab": {}
      },
      "cell_type": "code",
      "source": [
        "# our training data should be everything except our to-be-predicted variable, price\n",
        "\n",
        "# drop price from dataset, axis=1 is column\n",
        "X = scaled_train_df.drop(\"Price\", axis=1).values\n",
        "\n",
        "\n",
        "# create dataset with just price variable (to-be-predicted)\n",
        "Y = scaled_train_df[[\"Price\"]].values"
      ],
      "execution_count": 0,
      "outputs": []
    },
    {
      "metadata": {
        "id": "9VeDBMdUxqFL",
        "colab_type": "text"
      },
      "cell_type": "markdown",
      "source": [
        "# Building the Model"
      ]
    },
    {
      "metadata": {
        "id": "tIE6tp7Cxxkb",
        "colab_type": "code",
        "colab": {}
      },
      "cell_type": "code",
      "source": [
        "# declaration of model\n",
        "# many types of models, chose sequential\n",
        "# which is a linear stack of layers\n",
        "model = tf.keras.Sequential()"
      ],
      "execution_count": 0,
      "outputs": []
    },
    {
      "metadata": {
        "id": "nCobjXNLyTwn",
        "colab_type": "code",
        "colab": {}
      },
      "cell_type": "code",
      "source": [
        "# now we want to not take into account if it doesnt meet certain magnitude to avoid \n",
        "# overfitting, numbers are hyperparameter fitting, 50 and 100s just out of convenience\n",
        "\n",
        "# A layer encapsulates both a state (the layer's \"weights\") and a transformation \n",
        "# from inputs to outputs (a \"call\", the layer's forward pass).\n",
        "model.add(tf.keras.layers.Dense(50, activation='relu'))\n",
        "model.add(tf.keras.layers.Dense(100, activation='relu'))\n",
        "model.add(tf.keras.layers.Dense(50, activation='relu'))\n",
        "model.add(tf.keras.layers.Dense(1))"
      ],
      "execution_count": 0,
      "outputs": []
    },
    {
      "metadata": {
        "id": "cRjYHTzEz2w8",
        "colab_type": "code",
        "colab": {
          "base_uri": "https://localhost:8080/",
          "height": 108
        },
        "outputId": "8fbff2db-f7ac-400a-efb7-459672e39870"
      },
      "cell_type": "code",
      "source": [
        "# configures model for training\n",
        "# takes an optimizer (one of 2 things required to compile model)\n",
        "# can declare parameter or just pass parameter by referencing is name\n",
        "# the first one would look like \n",
        "# sgd = optimizers.SGD(lr=0.01, decay=1e-6, momentum=0.9, nesterov=True)\n",
        "# model.compile(loss='mean_squared_error', optimizer=sgd)\n",
        "\n",
        "# an optimizer is \n",
        "# here we call it by its name\n",
        "# the 'adam' optimizer is an algorithm for first-order gradient-based \n",
        "# optimization of stochastic objective functions, based on adaptive estimates of lower-order moments.\n",
        "model.compile(loss='mean_squared_error', optimizer='adam')"
      ],
      "execution_count": 33,
      "outputs": [
        {
          "output_type": "stream",
          "text": [
            "WARNING:tensorflow:From /usr/local/lib/python3.6/dist-packages/tensorflow/python/ops/resource_variable_ops.py:435: colocate_with (from tensorflow.python.framework.ops) is deprecated and will be removed in a future version.\n",
            "Instructions for updating:\n",
            "Colocations handled automatically by placer.\n"
          ],
          "name": "stdout"
        }
      ]
    },
    {
      "metadata": {
        "id": "6tIl7LJN1OtP",
        "colab_type": "code",
        "colab": {
          "base_uri": "https://localhost:8080/",
          "height": 1856
        },
        "outputId": "1b238a8b-3efd-426b-f261-197d18a2105e"
      },
      "cell_type": "code",
      "source": [
        "# now we will use everything from value [10] forward\n",
        "# we will shuffle the good data\n",
        "# select epochs which is the times we run it \n",
        "# select verbose\n",
        "\n",
        "#model.fit \"trains the model for a given number of epochs (iterations on a dataset).\"\n",
        "# param1 is a numpry array of training data (if single data like in this case)\n",
        "    # otherwise it would be a list of Numpy arrays\n",
        "#param2 numpy array of tager (label) data or list of numpy arrays\n",
        "#epochs is an int and is the number of epochs to train model which is essentially\n",
        "    # an iteration over the entire x and y data provided\n",
        "#shuffle is a boolean and wether to shuffle training data before each epoch\n",
        "#verbose (0=silent, 1=progress bar, 2= one line per epoch) to show data in prediction\n",
        "\n",
        "model.fit(\n",
        "    X[10:],\n",
        "    Y[10:],\n",
        "    epochs=50,\n",
        "    shuffle=True,\n",
        "    verbose=2\n",
        ")"
      ],
      "execution_count": 34,
      "outputs": [
        {
          "output_type": "stream",
          "text": [
            "WARNING:tensorflow:From /usr/local/lib/python3.6/dist-packages/tensorflow/python/keras/utils/losses_utils.py:170: to_float (from tensorflow.python.ops.math_ops) is deprecated and will be removed in a future version.\n",
            "Instructions for updating:\n",
            "Use tf.cast instead.\n",
            "WARNING:tensorflow:From /usr/local/lib/python3.6/dist-packages/tensorflow/python/ops/math_ops.py:3066: to_int32 (from tensorflow.python.ops.math_ops) is deprecated and will be removed in a future version.\n",
            "Instructions for updating:\n",
            "Use tf.cast instead.\n",
            "Epoch 1/50\n",
            " - 3s - loss: 0.0014\n",
            "Epoch 2/50\n",
            " - 2s - loss: 0.0013\n",
            "Epoch 3/50\n",
            " - 2s - loss: 0.0013\n",
            "Epoch 4/50\n",
            " - 2s - loss: 0.0013\n",
            "Epoch 5/50\n",
            " - 2s - loss: 0.0013\n",
            "Epoch 6/50\n",
            " - 2s - loss: 0.0012\n",
            "Epoch 7/50\n",
            " - 2s - loss: 0.0012\n",
            "Epoch 8/50\n",
            " - 2s - loss: 0.0012\n",
            "Epoch 9/50\n",
            " - 2s - loss: 0.0012\n",
            "Epoch 10/50\n",
            " - 2s - loss: 0.0012\n",
            "Epoch 11/50\n",
            " - 2s - loss: 0.0012\n",
            "Epoch 12/50\n",
            " - 2s - loss: 0.0012\n",
            "Epoch 13/50\n",
            " - 2s - loss: 0.0012\n",
            "Epoch 14/50\n",
            " - 2s - loss: 0.0012\n",
            "Epoch 15/50\n",
            " - 3s - loss: 0.0012\n",
            "Epoch 16/50\n",
            " - 3s - loss: 0.0012\n",
            "Epoch 17/50\n",
            " - 3s - loss: 0.0012\n",
            "Epoch 18/50\n",
            " - 3s - loss: 0.0012\n",
            "Epoch 19/50\n",
            " - 2s - loss: 0.0012\n",
            "Epoch 20/50\n",
            " - 2s - loss: 0.0012\n",
            "Epoch 21/50\n",
            " - 2s - loss: 0.0012\n",
            "Epoch 22/50\n",
            " - 2s - loss: 0.0012\n",
            "Epoch 23/50\n",
            " - 2s - loss: 0.0012\n",
            "Epoch 24/50\n",
            " - 2s - loss: 0.0012\n",
            "Epoch 25/50\n",
            " - 2s - loss: 0.0012\n",
            "Epoch 26/50\n",
            " - 2s - loss: 0.0012\n",
            "Epoch 27/50\n",
            " - 2s - loss: 0.0012\n",
            "Epoch 28/50\n",
            " - 2s - loss: 0.0012\n",
            "Epoch 29/50\n",
            " - 2s - loss: 0.0012\n",
            "Epoch 30/50\n",
            " - 2s - loss: 0.0012\n",
            "Epoch 31/50\n",
            " - 2s - loss: 0.0012\n",
            "Epoch 32/50\n",
            " - 2s - loss: 0.0012\n",
            "Epoch 33/50\n",
            " - 2s - loss: 0.0012\n",
            "Epoch 34/50\n",
            " - 2s - loss: 0.0012\n",
            "Epoch 35/50\n",
            " - 2s - loss: 0.0012\n",
            "Epoch 36/50\n",
            " - 2s - loss: 0.0012\n",
            "Epoch 37/50\n",
            " - 2s - loss: 0.0012\n",
            "Epoch 38/50\n",
            " - 2s - loss: 0.0012\n",
            "Epoch 39/50\n",
            " - 2s - loss: 0.0012\n",
            "Epoch 40/50\n",
            " - 2s - loss: 0.0012\n",
            "Epoch 41/50\n",
            " - 2s - loss: 0.0012\n",
            "Epoch 42/50\n",
            " - 2s - loss: 0.0012\n",
            "Epoch 43/50\n",
            " - 2s - loss: 0.0012\n",
            "Epoch 44/50\n",
            " - 2s - loss: 0.0012\n",
            "Epoch 45/50\n",
            " - 2s - loss: 0.0012\n",
            "Epoch 46/50\n",
            " - 2s - loss: 0.0011\n",
            "Epoch 47/50\n",
            " - 2s - loss: 0.0012\n",
            "Epoch 48/50\n",
            " - 2s - loss: 0.0012\n",
            "Epoch 49/50\n",
            " - 2s - loss: 0.0011\n",
            "Epoch 50/50\n",
            " - 2s - loss: 0.0012\n"
          ],
          "name": "stdout"
        },
        {
          "output_type": "execute_result",
          "data": {
            "text/plain": [
              "<tensorflow.python.keras.callbacks.History at 0x7f2b2d4256d8>"
            ]
          },
          "metadata": {
            "tags": []
          },
          "execution_count": 34
        }
      ]
    },
    {
      "metadata": {
        "id": "uooUr7YCNJht",
        "colab_type": "text"
      },
      "cell_type": "markdown",
      "source": [
        "## Predictions"
      ]
    },
    {
      "metadata": {
        "id": "VMrirq3KNMSv",
        "colab_type": "code",
        "colab": {}
      },
      "cell_type": "code",
      "source": [
        "# keras function \n",
        "# Get the 1 column we have which is price, and let keras take care\n",
        "# of how many by leaving row blank\n",
        "prediction = model.predict(X[:1])"
      ],
      "execution_count": 0,
      "outputs": []
    },
    {
      "metadata": {
        "id": "9Bf7VfY4N_9I",
        "colab_type": "code",
        "colab": {
          "base_uri": "https://localhost:8080/",
          "height": 34
        },
        "outputId": "934ba144-5d75-41e4-e93b-c0961761b279"
      },
      "cell_type": "code",
      "source": [
        "prediction"
      ],
      "execution_count": 36,
      "outputs": [
        {
          "output_type": "execute_result",
          "data": {
            "text/plain": [
              "array([[0.09369746]], dtype=float32)"
            ]
          },
          "metadata": {
            "tags": []
          },
          "execution_count": 36
        }
      ]
    },
    {
      "metadata": {
        "id": "g8VVLK92OJaS",
        "colab_type": "code",
        "colab": {}
      },
      "cell_type": "code",
      "source": [
        "multiplier = scaler.scale_[1]\n",
        "adder = scaler.min_[1]"
      ],
      "execution_count": 0,
      "outputs": []
    },
    {
      "metadata": {
        "id": "7akHcY8bPx9T",
        "colab_type": "code",
        "colab": {
          "base_uri": "https://localhost:8080/",
          "height": 51
        },
        "outputId": "21ef9b07-153f-44bc-9a41-213f95c31905"
      },
      "cell_type": "code",
      "source": [
        "#scale back\n",
        "pred = prediction[0][0]\n",
        "print('Prediction with scaling = ',format(pred))\n",
        "pred -= adder\n",
        "pred /= multiplier\n",
        "print(\"Housing Price Prediction - ${}\".format(pred))"
      ],
      "execution_count": 38,
      "outputs": [
        {
          "output_type": "stream",
          "text": [
            "Prediction with scaling =  0.0936974585056305\n",
            "Housing Price Prediction - $1126447.251290083\n"
          ],
          "name": "stdout"
        }
      ]
    }
  ]
}